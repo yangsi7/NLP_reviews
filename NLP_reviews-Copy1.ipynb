{
 "cells": [
  {
   "cell_type": "markdown",
   "id": "23ac7dab-34ae-4a55-9980-3b669ea4f9f4",
   "metadata": {},
   "source": [
    "# Case Study -- NLP Amazon Reviews (code)"
   ]
  },
  {
   "cell_type": "markdown",
   "id": "961e9628-be03-4f5b-9834-82a1d4dfcca0",
   "metadata": {},
   "source": [
    "### Version 0.1\n",
    "#### Simon Yang\n",
    "last update: 25th September 2021"
   ]
  },
  {
   "cell_type": "markdown",
   "id": "58c65198-7f2e-4561-b803-69a8b722de63",
   "metadata": {},
   "source": [
    "### Import libraries and dependant data"
   ]
  },
  {
   "cell_type": "code",
   "execution_count": 1,
   "id": "c9242173-8aef-4bae-832e-b82462fd38dc",
   "metadata": {},
   "outputs": [],
   "source": [
    "import nltk\n",
    "import sys\n",
    "import json\n",
    "from matplotlib import pyplot as plt\n",
    "import time\n",
    "import pandas as pd\n",
    "import numpy as np\n",
    "import string\n",
    "import fasttext\n",
    "import contractions\n",
    "from nltk.tokenize import word_tokenize\n",
    "from nltk.corpus import stopwords, wordnet\n",
    "from nltk.stem import WordNetLemmatizer\n",
    "from nltk import ne_chunk, pos_tag\n",
    "from nltk.tree import Tree\n",
    "import tensorflow as tf\n",
    "from transformers import DistilBertTokenizerFast\n",
    "from transformers import TFDistilBertForSequenceClassification\n",
    "from sklearn.model_selection import train_test_split\n",
    "from sklearn.metrics import confusion_matrix, ConfusionMatrixDisplay\n",
    "from sklearn.utils import shuffle\n",
    "import pickle"
   ]
  },
  {
   "cell_type": "markdown",
   "id": "cd086b1f-d7c5-4278-86bd-c72cd4f69f5e",
   "metadata": {},
   "source": [
    "### Download Amaazon review data (optional)\n",
    "For this script to be fully self-contained, the data can be pulled from the web, here. \n",
    "For the purpose of this exercise, the data was pulled with wget and uncompressed to './data/'."
   ]
  },
  {
   "cell_type": "code",
   "execution_count": 2,
   "id": "fe9c7e08-683a-4c16-b78b-2a3b172fdf24",
   "metadata": {},
   "outputs": [],
   "source": [
    "# import urllib\n",
    "# todownload = 'http://snap.stanford.edu/data/amazon/productGraph/categoryFiles/reviews_Apps_for_Android_5.json.gz'\n",
    "# urllib.urlretrieve(\"todownload\", \"reviews_Apps_for_Android_5.json.gz\")"
   ]
  },
  {
   "cell_type": "markdown",
   "id": "8f7cb8fb-da11-495f-8ad7-4772307129bf",
   "metadata": {},
   "source": [
    "### Read data"
   ]
  },
  {
   "cell_type": "code",
   "execution_count": 3,
   "id": "1e147cb0-d46a-4dd8-9cd7-dbb08068a0da",
   "metadata": {},
   "outputs": [],
   "source": [
    "amzr = []\n",
    "for line in open('./data/reviews_Apps_for_Android_5.json', 'r'):\n",
    "    amzr.append(json.loads(line))"
   ]
  },
  {
   "cell_type": "markdown",
   "id": "d103b3ea-e719-4896-aa2b-eb254381a891",
   "metadata": {},
   "source": [
    "### Repackage data into pandas dataframe"
   ]
  },
  {
   "cell_type": "markdown",
   "id": "3eca9c5c-6a2e-41a7-b967-df7b4cfa5108",
   "metadata": {},
   "source": [
    "##### First we retrieve all possible unique user key to define our table's columns"
   ]
  },
  {
   "cell_type": "code",
   "execution_count": 4,
   "id": "7260fe62-074b-494c-9e14-1d5863cc1fb5",
   "metadata": {},
   "outputs": [],
   "source": [
    "columns = set([i for r in amzr for i in r.keys()])\n",
    "# Create dictionarry -- this will be used to create our DataFrame\n",
    "amzr_df = {c:[] for c in columns}"
   ]
  },
  {
   "cell_type": "markdown",
   "id": "ff3cfb98-4db1-4339-abab-d4dcd473870c",
   "metadata": {},
   "source": [
    "##### Let's fill our table with data"
   ]
  },
  {
   "cell_type": "code",
   "execution_count": 5,
   "id": "23a7336f-7324-450a-bb18-973f933b28eb",
   "metadata": {},
   "outputs": [],
   "source": [
    "for row in amzr: # loop through data and append to dict\n",
    "    for key in columns:\n",
    "        amzr_df[key].append(row.get(key))\n",
    "amzr_df = pd.DataFrame(amzr_df)"
   ]
  },
  {
   "cell_type": "markdown",
   "id": "dbb9e881-d082-45b0-9ec4-3aaa717652ec",
   "metadata": {},
   "source": [
    "### Clean-up data:\n",
    "1. remove empty review texts\n",
    "2. remove dupplicates"
   ]
  },
  {
   "cell_type": "code",
   "execution_count": 6,
   "id": "8a51ece0-005d-4c6c-99f2-b3fc3ee0ba96",
   "metadata": {},
   "outputs": [],
   "source": [
    "amzr_clean = amzr_df[~amzr_df['reviewText'].isnull()]\n",
    "amzr_clean.drop_duplicates(subset=['reviewerID', 'asin', 'unixReviewTime'],inplace=True)\n",
    "amzr_clean = amzr_clean.reset_index()"
   ]
  },
  {
   "cell_type": "markdown",
   "id": "94367441-480f-4363-ae93-f1c5b2cc1efd",
   "metadata": {},
   "source": [
    "### Retreive helpfullness and bin into categories:\n",
    "- categories are from 1 to 5, i.e, from least helpfull to most helpfull\n",
    "- \"None\" catogory indicates no helpfulness rating"
   ]
  },
  {
   "cell_type": "code",
   "execution_count": 7,
   "id": "c1858c9a-bb69-44af-a22a-d75c1a9af3d7",
   "metadata": {},
   "outputs": [],
   "source": [
    "amzr_clean['helpful_num'] = amzr_clean['helpful'].apply(lambda x: x[0])\n",
    "amzr_clean['helpful_den'] = amzr_clean['helpful'].apply(lambda x: x[1])\n",
    "amzr_clean['helpful_pct'] = np.where(amzr_clean['helpful_den'] > 0,\n",
    "                                  amzr_clean['helpful_num'] / amzr_clean['helpful_den'], -1)\n",
    "amzr_clean['helpfulness'] = pd.cut(x=amzr_clean['helpful_pct'], bins=[-1, 0, 0.2, 0.4, 0.6, 0.8, 1.0],\n",
    "                                         labels=['None', '1', '2', '3', '4', '5'], include_lowest=True)\n",
    "amzr_clean['sentiment'] = pd.cut(x=amzr_clean['overall'], bins=[-1, 1.5, 3.5, 6],\n",
    "                                         labels=[0,1,2], include_lowest=True)\n",
    "amzr_clean = amzr_clean.drop(columns=['helpful_num','helpful_pct'])"
   ]
  },
  {
   "cell_type": "code",
   "execution_count": null,
   "id": "2fac84a5-3945-42af-9a41-c4df559e4590",
   "metadata": {},
   "outputs": [],
   "source": []
  },
  {
   "cell_type": "markdown",
   "id": "bccf6a83-1ac4-4d3b-8b4b-a1b380f7e6d0",
   "metadata": {},
   "source": [
    "We now have the follwing table: "
   ]
  },
  {
   "cell_type": "code",
   "execution_count": 8,
   "id": "799292e8-9a33-490f-8f9f-8fc42d6c4bed",
   "metadata": {},
   "outputs": [
    {
     "data": {
      "text/html": [
       "<div>\n",
       "<style scoped>\n",
       "    .dataframe tbody tr th:only-of-type {\n",
       "        vertical-align: middle;\n",
       "    }\n",
       "\n",
       "    .dataframe tbody tr th {\n",
       "        vertical-align: top;\n",
       "    }\n",
       "\n",
       "    .dataframe thead th {\n",
       "        text-align: right;\n",
       "    }\n",
       "</style>\n",
       "<table border=\"1\" class=\"dataframe\">\n",
       "  <thead>\n",
       "    <tr style=\"text-align: right;\">\n",
       "      <th></th>\n",
       "      <th>index</th>\n",
       "      <th>asin</th>\n",
       "      <th>reviewerID</th>\n",
       "      <th>unixReviewTime</th>\n",
       "      <th>summary</th>\n",
       "      <th>reviewTime</th>\n",
       "      <th>reviewerName</th>\n",
       "      <th>reviewText</th>\n",
       "      <th>helpful</th>\n",
       "      <th>overall</th>\n",
       "      <th>helpful_den</th>\n",
       "      <th>helpfulness</th>\n",
       "      <th>sentiment</th>\n",
       "    </tr>\n",
       "  </thead>\n",
       "  <tbody>\n",
       "    <tr>\n",
       "      <th>0</th>\n",
       "      <td>0</td>\n",
       "      <td>B004A9SDD8</td>\n",
       "      <td>A1N4O8VOJZTDVB</td>\n",
       "      <td>1383350400</td>\n",
       "      <td>Really cute</td>\n",
       "      <td>11 2, 2013</td>\n",
       "      <td>Annette Yancey</td>\n",
       "      <td>Loves the song, so he really couldn't wait to ...</td>\n",
       "      <td>[1, 1]</td>\n",
       "      <td>3.0</td>\n",
       "      <td>1</td>\n",
       "      <td>5</td>\n",
       "      <td>1</td>\n",
       "    </tr>\n",
       "    <tr>\n",
       "      <th>1</th>\n",
       "      <td>1</td>\n",
       "      <td>B004A9SDD8</td>\n",
       "      <td>A2HQWU6HUKIEC7</td>\n",
       "      <td>1323043200</td>\n",
       "      <td>2-year-old loves it</td>\n",
       "      <td>12 5, 2011</td>\n",
       "      <td>Audiobook lover \"Kathy\"</td>\n",
       "      <td>Oh, how my little grandson loves this app. He'...</td>\n",
       "      <td>[0, 0]</td>\n",
       "      <td>5.0</td>\n",
       "      <td>0</td>\n",
       "      <td>None</td>\n",
       "      <td>2</td>\n",
       "    </tr>\n",
       "    <tr>\n",
       "      <th>2</th>\n",
       "      <td>2</td>\n",
       "      <td>B004A9SDD8</td>\n",
       "      <td>A1SXASF6GYG96I</td>\n",
       "      <td>1337558400</td>\n",
       "      <td>Fun game</td>\n",
       "      <td>05 21, 2012</td>\n",
       "      <td>Barbara Gibbs</td>\n",
       "      <td>I found this at a perfect time since my daught...</td>\n",
       "      <td>[0, 0]</td>\n",
       "      <td>5.0</td>\n",
       "      <td>0</td>\n",
       "      <td>None</td>\n",
       "      <td>2</td>\n",
       "    </tr>\n",
       "    <tr>\n",
       "      <th>3</th>\n",
       "      <td>3</td>\n",
       "      <td>B004A9SDD8</td>\n",
       "      <td>A2B54P9ZDYH167</td>\n",
       "      <td>1354752000</td>\n",
       "      <td>We love our Monkeys!</td>\n",
       "      <td>12 6, 2012</td>\n",
       "      <td>Brooke Greenstreet \"Babylove\"</td>\n",
       "      <td>My 1 year old goes back to this game over and ...</td>\n",
       "      <td>[3, 4]</td>\n",
       "      <td>5.0</td>\n",
       "      <td>4</td>\n",
       "      <td>4</td>\n",
       "      <td>2</td>\n",
       "    </tr>\n",
       "    <tr>\n",
       "      <th>4</th>\n",
       "      <td>4</td>\n",
       "      <td>B004A9SDD8</td>\n",
       "      <td>AFOFZDTX5UC6D</td>\n",
       "      <td>1391212800</td>\n",
       "      <td>This is my granddaughters favorite app on my K...</td>\n",
       "      <td>02 1, 2014</td>\n",
       "      <td>C. Galindo</td>\n",
       "      <td>There are three different versions of the song...</td>\n",
       "      <td>[1, 1]</td>\n",
       "      <td>5.0</td>\n",
       "      <td>1</td>\n",
       "      <td>5</td>\n",
       "      <td>2</td>\n",
       "    </tr>\n",
       "    <tr>\n",
       "      <th>...</th>\n",
       "      <td>...</td>\n",
       "      <td>...</td>\n",
       "      <td>...</td>\n",
       "      <td>...</td>\n",
       "      <td>...</td>\n",
       "      <td>...</td>\n",
       "      <td>...</td>\n",
       "      <td>...</td>\n",
       "      <td>...</td>\n",
       "      <td>...</td>\n",
       "      <td>...</td>\n",
       "      <td>...</td>\n",
       "      <td>...</td>\n",
       "    </tr>\n",
       "    <tr>\n",
       "      <th>752932</th>\n",
       "      <td>752932</td>\n",
       "      <td>B00LUEMK44</td>\n",
       "      <td>AZJ11YS0E52AI</td>\n",
       "      <td>1405814400</td>\n",
       "      <td>Five Stars</td>\n",
       "      <td>07 20, 2014</td>\n",
       "      <td>K. Perna</td>\n",
       "      <td>I love it!!!!!!!!!!  really keeps your attenti...</td>\n",
       "      <td>[0, 0]</td>\n",
       "      <td>5.0</td>\n",
       "      <td>0</td>\n",
       "      <td>None</td>\n",
       "      <td>2</td>\n",
       "    </tr>\n",
       "    <tr>\n",
       "      <th>752933</th>\n",
       "      <td>752933</td>\n",
       "      <td>B00LUEMK44</td>\n",
       "      <td>A2550XGZEFDH2Y</td>\n",
       "      <td>1405900800</td>\n",
       "      <td>... are so many free ones that are so much bet...</td>\n",
       "      <td>07 21, 2014</td>\n",
       "      <td>Melanie G. Nihart \"Grammy\"</td>\n",
       "      <td>Okay but there are so many free ones that are ...</td>\n",
       "      <td>[0, 0]</td>\n",
       "      <td>3.0</td>\n",
       "      <td>0</td>\n",
       "      <td>None</td>\n",
       "      <td>1</td>\n",
       "    </tr>\n",
       "    <tr>\n",
       "      <th>752934</th>\n",
       "      <td>752934</td>\n",
       "      <td>B00LUEMK44</td>\n",
       "      <td>A1KNDB16TG5QXD</td>\n",
       "      <td>1405900800</td>\n",
       "      <td>Enjoyable</td>\n",
       "      <td>07 21, 2014</td>\n",
       "      <td>P. O'Reilly</td>\n",
       "      <td>Another great jewels game that just keeps you ...</td>\n",
       "      <td>[0, 0]</td>\n",
       "      <td>4.0</td>\n",
       "      <td>0</td>\n",
       "      <td>None</td>\n",
       "      <td>2</td>\n",
       "    </tr>\n",
       "    <tr>\n",
       "      <th>752935</th>\n",
       "      <td>752935</td>\n",
       "      <td>B00LUEMK44</td>\n",
       "      <td>A1IHFHA5LI9SGI</td>\n",
       "      <td>1405814400</td>\n",
       "      <td>entertaining</td>\n",
       "      <td>07 20, 2014</td>\n",
       "      <td>redhatflusher</td>\n",
       "      <td>I find this the best jewels star ever. There s...</td>\n",
       "      <td>[0, 0]</td>\n",
       "      <td>5.0</td>\n",
       "      <td>0</td>\n",
       "      <td>None</td>\n",
       "      <td>2</td>\n",
       "    </tr>\n",
       "    <tr>\n",
       "      <th>752936</th>\n",
       "      <td>752936</td>\n",
       "      <td>B00LUEMK44</td>\n",
       "      <td>A3GVFRVK9RYGTV</td>\n",
       "      <td>1405728000</td>\n",
       "      <td>This game was fun to play but was not as good ...</td>\n",
       "      <td>07 19, 2014</td>\n",
       "      <td>Smiley</td>\n",
       "      <td>This game was fun to play but was not as good ...</td>\n",
       "      <td>[0, 0]</td>\n",
       "      <td>4.0</td>\n",
       "      <td>0</td>\n",
       "      <td>None</td>\n",
       "      <td>2</td>\n",
       "    </tr>\n",
       "  </tbody>\n",
       "</table>\n",
       "<p>752937 rows × 13 columns</p>\n",
       "</div>"
      ],
      "text/plain": [
       "         index        asin      reviewerID  unixReviewTime  \\\n",
       "0            0  B004A9SDD8  A1N4O8VOJZTDVB      1383350400   \n",
       "1            1  B004A9SDD8  A2HQWU6HUKIEC7      1323043200   \n",
       "2            2  B004A9SDD8  A1SXASF6GYG96I      1337558400   \n",
       "3            3  B004A9SDD8  A2B54P9ZDYH167      1354752000   \n",
       "4            4  B004A9SDD8   AFOFZDTX5UC6D      1391212800   \n",
       "...        ...         ...             ...             ...   \n",
       "752932  752932  B00LUEMK44   AZJ11YS0E52AI      1405814400   \n",
       "752933  752933  B00LUEMK44  A2550XGZEFDH2Y      1405900800   \n",
       "752934  752934  B00LUEMK44  A1KNDB16TG5QXD      1405900800   \n",
       "752935  752935  B00LUEMK44  A1IHFHA5LI9SGI      1405814400   \n",
       "752936  752936  B00LUEMK44  A3GVFRVK9RYGTV      1405728000   \n",
       "\n",
       "                                                  summary   reviewTime  \\\n",
       "0                                             Really cute   11 2, 2013   \n",
       "1                                     2-year-old loves it   12 5, 2011   \n",
       "2                                                Fun game  05 21, 2012   \n",
       "3                                    We love our Monkeys!   12 6, 2012   \n",
       "4       This is my granddaughters favorite app on my K...   02 1, 2014   \n",
       "...                                                   ...          ...   \n",
       "752932                                         Five Stars  07 20, 2014   \n",
       "752933  ... are so many free ones that are so much bet...  07 21, 2014   \n",
       "752934                                          Enjoyable  07 21, 2014   \n",
       "752935                                       entertaining  07 20, 2014   \n",
       "752936  This game was fun to play but was not as good ...  07 19, 2014   \n",
       "\n",
       "                         reviewerName  \\\n",
       "0                      Annette Yancey   \n",
       "1             Audiobook lover \"Kathy\"   \n",
       "2                       Barbara Gibbs   \n",
       "3       Brooke Greenstreet \"Babylove\"   \n",
       "4                          C. Galindo   \n",
       "...                               ...   \n",
       "752932                       K. Perna   \n",
       "752933     Melanie G. Nihart \"Grammy\"   \n",
       "752934                    P. O'Reilly   \n",
       "752935                  redhatflusher   \n",
       "752936                         Smiley   \n",
       "\n",
       "                                               reviewText helpful  overall  \\\n",
       "0       Loves the song, so he really couldn't wait to ...  [1, 1]      3.0   \n",
       "1       Oh, how my little grandson loves this app. He'...  [0, 0]      5.0   \n",
       "2       I found this at a perfect time since my daught...  [0, 0]      5.0   \n",
       "3       My 1 year old goes back to this game over and ...  [3, 4]      5.0   \n",
       "4       There are three different versions of the song...  [1, 1]      5.0   \n",
       "...                                                   ...     ...      ...   \n",
       "752932  I love it!!!!!!!!!!  really keeps your attenti...  [0, 0]      5.0   \n",
       "752933  Okay but there are so many free ones that are ...  [0, 0]      3.0   \n",
       "752934  Another great jewels game that just keeps you ...  [0, 0]      4.0   \n",
       "752935  I find this the best jewels star ever. There s...  [0, 0]      5.0   \n",
       "752936  This game was fun to play but was not as good ...  [0, 0]      4.0   \n",
       "\n",
       "        helpful_den helpfulness sentiment  \n",
       "0                 1           5         1  \n",
       "1                 0        None         2  \n",
       "2                 0        None         2  \n",
       "3                 4           4         2  \n",
       "4                 1           5         2  \n",
       "...             ...         ...       ...  \n",
       "752932            0        None         2  \n",
       "752933            0        None         1  \n",
       "752934            0        None         2  \n",
       "752935            0        None         2  \n",
       "752936            0        None         2  \n",
       "\n",
       "[752937 rows x 13 columns]"
      ]
     },
     "metadata": {},
     "output_type": "display_data"
    }
   ],
   "source": [
    "display(amzr_clean)"
   ]
  },
  {
   "cell_type": "markdown",
   "id": "b008bcc0-f69d-4797-8e71-6bcb86904c23",
   "metadata": {},
   "source": [
    "### Text processing\n",
    "We create a function that preprocesses the reviews with the following steps:\n",
    "- remove contractions\n",
    "- make lower-case\n",
    "- remove punctuations\n",
    "- lemmatization\n",
    "We do not remove stop-words since the list contains many negative sentiment indicators. "
   ]
  },
  {
   "cell_type": "code",
   "execution_count": 9,
   "id": "04c3e6c2-2e02-41e8-b6d0-360bb8405f4d",
   "metadata": {},
   "outputs": [],
   "source": [
    "def process_text(df_in, cols=['reviewText','summary']):\n",
    "    df =  df_in.copy()\n",
    "    # Columns to drop (intermediate processed strings) \n",
    "    cols_ext_todrop = ['nocontract','nocontract_str','tokenized','lower','no_punc','pos_tags','wordnet_pos']\n",
    "    stop_words = set(stopwords.words('english')) - {'not','no','nor',\"aren't\",\"isn't\"}\n",
    "    # Remove contractions\n",
    "    for c in cols:\n",
    "        df['nocontract'] = df[c].apply(lambda x: [contractions.fix(word) for word in x.split()])\n",
    "        df['nocontract_str'] = [' '.join(map(str, l)) for l in df['nocontract']]\n",
    "        # Tokenize\n",
    "        df['tokenized'] = df['nocontract_str'].apply(word_tokenize)\n",
    "        # make lower-case\n",
    "        df['lower'] = df['tokenized'].apply(lambda x: [word.lower() for word in x])\n",
    "        # remove punctuation\n",
    "        punc = string.punctuation\n",
    "        df['no_punc'] = df['lower'].apply(lambda x: [word for word in x if word not in punc])\n",
    "#         # remove stop-words\n",
    "#         df['stopwords_removed'] = df['no_punc'].apply(lambda x: [word for word in x if word not in stop_words])\n",
    "        # tag words\n",
    "        df['pos_tags'] = df['no_punc'].apply(nltk.tag.pos_tag)\n",
    "        # lemmatize\n",
    "        def get_wordnet_pos(tag):\n",
    "            if tag.startswith('J'):\n",
    "                return wordnet.ADJ\n",
    "            elif tag.startswith('V'):\n",
    "                return wordnet.VERB\n",
    "            elif tag.startswith('N'):\n",
    "                return wordnet.NOUN\n",
    "            elif tag.startswith('R'):\n",
    "                return wordnet.ADV\n",
    "            else:\n",
    "                return wordnet.NOUN\n",
    "        df['wordnet_pos'] = df['pos_tags'].apply(lambda x: [(word, get_wordnet_pos(pos_tag)) for (word, pos_tag) in x])\n",
    "        wnl = WordNetLemmatizer()\n",
    "        df[c+'_processed'] = df['wordnet_pos'].apply(lambda x: \" \".join([wnl.lemmatize(word, tag) for word, tag in x]))\n",
    "        # drop intermediate columns\n",
    "        df=df.drop(columns=cols_ext_todrop)\n",
    "    return df"
   ]
  },
  {
   "cell_type": "markdown",
   "id": "44569c60-9b27-454b-b8c3-efd4bb074420",
   "metadata": {},
   "source": [
    "### Inspect Helpfulness"
   ]
  },
  {
   "cell_type": "markdown",
   "id": "063a8d84-6c19-4063-bab0-17518e19a036",
   "metadata": {},
   "source": [
    "### Using helpulness to filter the training data\n",
    "1. use the data as is\n",
    "2. filter for helpful reviews where helfulness has been assesed by at least 5 people"
   ]
  },
  {
   "cell_type": "code",
   "execution_count": 11,
   "id": "571b681a-6ce1-4322-99ed-f33a4afb71db",
   "metadata": {},
   "outputs": [],
   "source": [
    "nfilt = 5 # number of ratings threshold\n",
    "amzr_keep_helful = amzr_clean[(amzr_clean['helpfulness'].isin(['3','4','5'])) & (amzr_clean['helpful_den'].astype(int) >= nfilt)]"
   ]
  },
  {
   "cell_type": "markdown",
   "id": "45d8f9b5-d563-49db-b28c-50d7fd516976",
   "metadata": {},
   "source": [
    "### Sample data for training and testing (balanced and imbalanced)\n",
    "Because of ressource limitation we sample our data. \n",
    "\n",
    "We sample the data without replacement to create a training set and a testing set.\n",
    "\n",
    "Note that the text processing is performed here with the function defined above"
   ]
  },
  {
   "cell_type": "code",
   "execution_count": 13,
   "id": "6da84d11-3832-4c43-a7f4-4e3bea7a11d6",
   "metadata": {},
   "outputs": [],
   "source": [
    "n_train=100 # training sample\n",
    "n_test=100 # testing sample"
   ]
  },
  {
   "cell_type": "markdown",
   "id": "969d7dc7-e601-46b1-9e29-e4ad1c4a2bd5",
   "metadata": {},
   "source": [
    "Case 1 -- all the data"
   ]
  },
  {
   "cell_type": "code",
   "execution_count": 15,
   "id": "aea45cae-ef97-476d-ac62-95f527db2d20",
   "metadata": {},
   "outputs": [],
   "source": [
    "amzr_clean_sample = process_text(amzr_clean.sample(n=n_train + n_test, replace=False, random_state=1))\n",
    "amzr_test_sample = amzr_clean_sample.iloc[n_train:]\n",
    "amzr_clean_sample = amzr_clean_sample.iloc[:n_train]\n"
   ]
  },
  {
   "cell_type": "markdown",
   "id": "63237433-604d-4a21-a97f-81e031e7bf57",
   "metadata": {},
   "source": [
    "Case 2 -- only sample helpfull reviews"
   ]
  },
  {
   "cell_type": "code",
   "execution_count": 17,
   "id": "f0d23ffc-c5d7-4134-bf4d-16f4ef402e34",
   "metadata": {},
   "outputs": [],
   "source": [
    "amzr_keep_helful[~amzr_keep_helful.isin(amzr_test_sample)].dropna() # remove rows from test sample\n",
    "\n",
    "amzr_keep_helful_sample = process_text(amzr_keep_helful.sample(n=n_train + n_test, replace=False, random_state=1))\n",
    "amzr_keep_helful_test_sample = amzr_keep_helful_sample.iloc[n_train:]\n",
    "amzr_keep_helful_sample = amzr_keep_helful_sample.iloc[:n_train]"
   ]
  },
  {
   "cell_type": "markdown",
   "id": "4719fcc4-fea1-40c1-9b4d-09c92e62b660",
   "metadata": {},
   "source": [
    "Case 3 -- all the data (balanced)"
   ]
  },
  {
   "cell_type": "code",
   "execution_count": 18,
   "id": "f5a78480-7c73-4485-811b-36419aa7edfe",
   "metadata": {},
   "outputs": [],
   "source": [
    "amzr_clean[~amzr_clean.isin(amzr_test_sample)].dropna() # remove rows from test sample\n",
    "\n",
    "g = amzr_clean.groupby('sentiment')\n",
    "amzr_clean_sample_balanced=shuffle(process_text(pd.DataFrame(g.apply(lambda x: x.sample(int((n_train + n_test)/3),replace=False))))).reset_index(drop=True)\n",
    "amzr_test_sample_balanced = amzr_clean_sample_balanced.iloc[n_train:]\n",
    "amzr_clean_sample_balanced = amzr_clean_sample_balanced.iloc[:n_train]"
   ]
  },
  {
   "cell_type": "markdown",
   "id": "cc363914-1086-47e8-94f3-f0affdfed83e",
   "metadata": {},
   "source": [
    "Case 4 -- only sample helpfull reviews (balanced)"
   ]
  },
  {
   "cell_type": "code",
   "execution_count": 19,
   "id": "05b5fe14-efd1-4465-a9da-ec790b014804",
   "metadata": {},
   "outputs": [],
   "source": [
    "amzr_keep_helful[~amzr_keep_helful.isin(amzr_test_sample)].dropna() # remove rows from test sample\n",
    "\n",
    "g = amzr_keep_helful.groupby('sentiment')\n",
    "amzr_keep_helful_sample_balanced=shuffle(process_text(pd.DataFrame(g.apply(lambda x: x.sample(int((n_train + n_test)/3),replace=False))))).reset_index(drop=True)\n",
    "amzr_keep_helful_test_sample_balanced = amzr_keep_helful_sample_balanced.iloc[n_train:]\n",
    "amzr_keep_helful_sample_balanced = amzr_keep_helful_sample_balanced.iloc[:n_train]"
   ]
  },
  {
   "cell_type": "markdown",
   "id": "b967e92d-de5e-4e52-9466-becaa7fddde5",
   "metadata": {},
   "source": [
    "#### Display example training data (Case 1)"
   ]
  },
  {
   "cell_type": "code",
   "execution_count": 20,
   "id": "d5df07d1-167f-4e42-b83b-4874376eac12",
   "metadata": {},
   "outputs": [
    {
     "data": {
      "text/html": [
       "<div>\n",
       "<style scoped>\n",
       "    .dataframe tbody tr th:only-of-type {\n",
       "        vertical-align: middle;\n",
       "    }\n",
       "\n",
       "    .dataframe tbody tr th {\n",
       "        vertical-align: top;\n",
       "    }\n",
       "\n",
       "    .dataframe thead th {\n",
       "        text-align: right;\n",
       "    }\n",
       "</style>\n",
       "<table border=\"1\" class=\"dataframe\">\n",
       "  <thead>\n",
       "    <tr style=\"text-align: right;\">\n",
       "      <th></th>\n",
       "      <th>index</th>\n",
       "      <th>asin</th>\n",
       "      <th>reviewerID</th>\n",
       "      <th>unixReviewTime</th>\n",
       "      <th>summary</th>\n",
       "      <th>reviewTime</th>\n",
       "      <th>reviewerName</th>\n",
       "      <th>reviewText</th>\n",
       "      <th>helpful</th>\n",
       "      <th>overall</th>\n",
       "      <th>helpful_den</th>\n",
       "      <th>helpfulness</th>\n",
       "      <th>sentiment</th>\n",
       "      <th>reviewText_processed</th>\n",
       "      <th>summary_processed</th>\n",
       "    </tr>\n",
       "  </thead>\n",
       "  <tbody>\n",
       "    <tr>\n",
       "      <th>0</th>\n",
       "      <td>321789</td>\n",
       "      <td>B008AZGWYK</td>\n",
       "      <td>A3992OP6NR7AS</td>\n",
       "      <td>1390262400</td>\n",
       "      <td>Not very good</td>\n",
       "      <td>01 21, 2014</td>\n",
       "      <td>goalie</td>\n",
       "      <td>Expecting so much more,As with most apps, it i...</td>\n",
       "      <td>[0, 0]</td>\n",
       "      <td>2.0</td>\n",
       "      <td>0</td>\n",
       "      <td>None</td>\n",
       "      <td>1</td>\n",
       "      <td>expect so much more a with most apps it be ber...</td>\n",
       "      <td>not very good</td>\n",
       "    </tr>\n",
       "    <tr>\n",
       "      <th>1</th>\n",
       "      <td>641856</td>\n",
       "      <td>B00EBQRSTK</td>\n",
       "      <td>A3EPDWEO3OAOGL</td>\n",
       "      <td>1377475200</td>\n",
       "      <td>eh...</td>\n",
       "      <td>08 26, 2013</td>\n",
       "      <td>emmazmom</td>\n",
       "      <td>Not very challenging. The first levels are ver...</td>\n",
       "      <td>[0, 0]</td>\n",
       "      <td>3.0</td>\n",
       "      <td>0</td>\n",
       "      <td>None</td>\n",
       "      <td>1</td>\n",
       "      <td>not very challenge the first level be very eas...</td>\n",
       "      <td>eh ...</td>\n",
       "    </tr>\n",
       "    <tr>\n",
       "      <th>2</th>\n",
       "      <td>449579</td>\n",
       "      <td>B00A3NQNUU</td>\n",
       "      <td>A1VJ6K6ZD3RKMW</td>\n",
       "      <td>1372982400</td>\n",
       "      <td>This game rocks!</td>\n",
       "      <td>07 5, 2013</td>\n",
       "      <td>Laxdyn</td>\n",
       "      <td>I love this game, and so does my entire family...</td>\n",
       "      <td>[0, 0]</td>\n",
       "      <td>5.0</td>\n",
       "      <td>0</td>\n",
       "      <td>None</td>\n",
       "      <td>2</td>\n",
       "      <td>i love this game and so do my entire family we...</td>\n",
       "      <td>this game rock</td>\n",
       "    </tr>\n",
       "    <tr>\n",
       "      <th>3</th>\n",
       "      <td>751949</td>\n",
       "      <td>B00KWZ88N4</td>\n",
       "      <td>A23LAZFDYHSWEO</td>\n",
       "      <td>1403395200</td>\n",
       "      <td>annoying</td>\n",
       "      <td>06 22, 2014</td>\n",
       "      <td>boreing and hard to control</td>\n",
       "      <td>Its really fun but everytime i try to change m...</td>\n",
       "      <td>[6, 8]</td>\n",
       "      <td>3.0</td>\n",
       "      <td>8</td>\n",
       "      <td>4</td>\n",
       "      <td>1</td>\n",
       "      <td>it really fun but everytime i try to change my...</td>\n",
       "      <td>annoy</td>\n",
       "    </tr>\n",
       "    <tr>\n",
       "      <th>4</th>\n",
       "      <td>224141</td>\n",
       "      <td>B007A2CLGC</td>\n",
       "      <td>A2PL4EQDMGGK7X</td>\n",
       "      <td>1340928000</td>\n",
       "      <td>I used to be a non believer too</td>\n",
       "      <td>06 29, 2012</td>\n",
       "      <td>MadisonLastrega</td>\n",
       "      <td>I used to think &amp;quot; hey internet access wha...</td>\n",
       "      <td>[9, 10]</td>\n",
       "      <td>2.0</td>\n",
       "      <td>10</td>\n",
       "      <td>5</td>\n",
       "      <td>1</td>\n",
       "      <td>i use to think quot hey internet access what c...</td>\n",
       "      <td>i use to be a non believer too</td>\n",
       "    </tr>\n",
       "    <tr>\n",
       "      <th>...</th>\n",
       "      <td>...</td>\n",
       "      <td>...</td>\n",
       "      <td>...</td>\n",
       "      <td>...</td>\n",
       "      <td>...</td>\n",
       "      <td>...</td>\n",
       "      <td>...</td>\n",
       "      <td>...</td>\n",
       "      <td>...</td>\n",
       "      <td>...</td>\n",
       "      <td>...</td>\n",
       "      <td>...</td>\n",
       "      <td>...</td>\n",
       "      <td>...</td>\n",
       "      <td>...</td>\n",
       "    </tr>\n",
       "    <tr>\n",
       "      <th>95</th>\n",
       "      <td>363041</td>\n",
       "      <td>B008P4XLG8</td>\n",
       "      <td>ALSF01BYJMVUF</td>\n",
       "      <td>1395532800</td>\n",
       "      <td>Fun but frustrating too</td>\n",
       "      <td>03 23, 2014</td>\n",
       "      <td>JoshDavis</td>\n",
       "      <td>I think to get the most of this game it needs ...</td>\n",
       "      <td>[0, 0]</td>\n",
       "      <td>3.0</td>\n",
       "      <td>0</td>\n",
       "      <td>None</td>\n",
       "      <td>1</td>\n",
       "      <td>i think to get the most of this game it need t...</td>\n",
       "      <td>fun but frustrate too</td>\n",
       "    </tr>\n",
       "    <tr>\n",
       "      <th>96</th>\n",
       "      <td>599397</td>\n",
       "      <td>B00D2XD5JU</td>\n",
       "      <td>AFOBKJ9G6NVMG</td>\n",
       "      <td>1378684800</td>\n",
       "      <td>fruit quest</td>\n",
       "      <td>09 9, 2013</td>\n",
       "      <td>nancy jordan</td>\n",
       "      <td>I cannot figure out how to play this game. The...</td>\n",
       "      <td>[0, 0]</td>\n",
       "      <td>1.0</td>\n",
       "      <td>0</td>\n",
       "      <td>None</td>\n",
       "      <td>0</td>\n",
       "      <td>i can not figure out how to play this game the...</td>\n",
       "      <td>fruit quest</td>\n",
       "    </tr>\n",
       "    <tr>\n",
       "      <th>97</th>\n",
       "      <td>570742</td>\n",
       "      <td>B00CHSPB8Y</td>\n",
       "      <td>A3BDWPYY0LNVG7</td>\n",
       "      <td>1368057600</td>\n",
       "      <td>FE MAN 3</td>\n",
       "      <td>05 9, 2013</td>\n",
       "      <td>Mr Longname</td>\n",
       "      <td>It's an alright app but laggy and awkward cont...</td>\n",
       "      <td>[17, 18]</td>\n",
       "      <td>4.0</td>\n",
       "      <td>18</td>\n",
       "      <td>5</td>\n",
       "      <td>2</td>\n",
       "      <td>it be an alright app but laggy and awkward con...</td>\n",
       "      <td>fe man 3</td>\n",
       "    </tr>\n",
       "    <tr>\n",
       "      <th>98</th>\n",
       "      <td>501656</td>\n",
       "      <td>B00AUTXEL8</td>\n",
       "      <td>AE5Z69043W4MI</td>\n",
       "      <td>1384387200</td>\n",
       "      <td>flag logo quiz</td>\n",
       "      <td>11 14, 2013</td>\n",
       "      <td>David. Corner \"M D CORNER\"</td>\n",
       "      <td>i dont like this game as you have to spell the...</td>\n",
       "      <td>[0, 1]</td>\n",
       "      <td>1.0</td>\n",
       "      <td>1</td>\n",
       "      <td>None</td>\n",
       "      <td>0</td>\n",
       "      <td>i do not like this game a you have to spell th...</td>\n",
       "      <td>flag logo quiz</td>\n",
       "    </tr>\n",
       "    <tr>\n",
       "      <th>99</th>\n",
       "      <td>527226</td>\n",
       "      <td>B00BGC5UAG</td>\n",
       "      <td>A4M01GLNOVO70</td>\n",
       "      <td>1372464000</td>\n",
       "      <td>i like it BUT......</td>\n",
       "      <td>06 29, 2013</td>\n",
       "      <td>dmm</td>\n",
       "      <td>I think I am a pretty smart cookie but sometim...</td>\n",
       "      <td>[0, 0]</td>\n",
       "      <td>3.0</td>\n",
       "      <td>0</td>\n",
       "      <td>None</td>\n",
       "      <td>1</td>\n",
       "      <td>i think i be a pretty smart cookie but sometim...</td>\n",
       "      <td>i like it but ......</td>\n",
       "    </tr>\n",
       "  </tbody>\n",
       "</table>\n",
       "<p>100 rows × 15 columns</p>\n",
       "</div>"
      ],
      "text/plain": [
       "     index        asin      reviewerID  unixReviewTime  \\\n",
       "0   321789  B008AZGWYK   A3992OP6NR7AS      1390262400   \n",
       "1   641856  B00EBQRSTK  A3EPDWEO3OAOGL      1377475200   \n",
       "2   449579  B00A3NQNUU  A1VJ6K6ZD3RKMW      1372982400   \n",
       "3   751949  B00KWZ88N4  A23LAZFDYHSWEO      1403395200   \n",
       "4   224141  B007A2CLGC  A2PL4EQDMGGK7X      1340928000   \n",
       "..     ...         ...             ...             ...   \n",
       "95  363041  B008P4XLG8   ALSF01BYJMVUF      1395532800   \n",
       "96  599397  B00D2XD5JU   AFOBKJ9G6NVMG      1378684800   \n",
       "97  570742  B00CHSPB8Y  A3BDWPYY0LNVG7      1368057600   \n",
       "98  501656  B00AUTXEL8   AE5Z69043W4MI      1384387200   \n",
       "99  527226  B00BGC5UAG   A4M01GLNOVO70      1372464000   \n",
       "\n",
       "                            summary   reviewTime                 reviewerName  \\\n",
       "0                     Not very good  01 21, 2014                       goalie   \n",
       "1                             eh...  08 26, 2013                     emmazmom   \n",
       "2                  This game rocks!   07 5, 2013                       Laxdyn   \n",
       "3                          annoying  06 22, 2014  boreing and hard to control   \n",
       "4   I used to be a non believer too  06 29, 2012              MadisonLastrega   \n",
       "..                              ...          ...                          ...   \n",
       "95          Fun but frustrating too  03 23, 2014                    JoshDavis   \n",
       "96                      fruit quest   09 9, 2013                 nancy jordan   \n",
       "97                         FE MAN 3   05 9, 2013                  Mr Longname   \n",
       "98                   flag logo quiz  11 14, 2013   David. Corner \"M D CORNER\"   \n",
       "99              i like it BUT......  06 29, 2013                          dmm   \n",
       "\n",
       "                                           reviewText   helpful  overall  \\\n",
       "0   Expecting so much more,As with most apps, it i...    [0, 0]      2.0   \n",
       "1   Not very challenging. The first levels are ver...    [0, 0]      3.0   \n",
       "2   I love this game, and so does my entire family...    [0, 0]      5.0   \n",
       "3   Its really fun but everytime i try to change m...    [6, 8]      3.0   \n",
       "4   I used to think &quot; hey internet access wha...   [9, 10]      2.0   \n",
       "..                                                ...       ...      ...   \n",
       "95  I think to get the most of this game it needs ...    [0, 0]      3.0   \n",
       "96  I cannot figure out how to play this game. The...    [0, 0]      1.0   \n",
       "97  It's an alright app but laggy and awkward cont...  [17, 18]      4.0   \n",
       "98  i dont like this game as you have to spell the...    [0, 1]      1.0   \n",
       "99  I think I am a pretty smart cookie but sometim...    [0, 0]      3.0   \n",
       "\n",
       "    helpful_den helpfulness sentiment  \\\n",
       "0             0        None         1   \n",
       "1             0        None         1   \n",
       "2             0        None         2   \n",
       "3             8           4         1   \n",
       "4            10           5         1   \n",
       "..          ...         ...       ...   \n",
       "95            0        None         1   \n",
       "96            0        None         0   \n",
       "97           18           5         2   \n",
       "98            1        None         0   \n",
       "99            0        None         1   \n",
       "\n",
       "                                 reviewText_processed  \\\n",
       "0   expect so much more a with most apps it be ber...   \n",
       "1   not very challenge the first level be very eas...   \n",
       "2   i love this game and so do my entire family we...   \n",
       "3   it really fun but everytime i try to change my...   \n",
       "4   i use to think quot hey internet access what c...   \n",
       "..                                                ...   \n",
       "95  i think to get the most of this game it need t...   \n",
       "96  i can not figure out how to play this game the...   \n",
       "97  it be an alright app but laggy and awkward con...   \n",
       "98  i do not like this game a you have to spell th...   \n",
       "99  i think i be a pretty smart cookie but sometim...   \n",
       "\n",
       "                 summary_processed  \n",
       "0                    not very good  \n",
       "1                           eh ...  \n",
       "2                   this game rock  \n",
       "3                            annoy  \n",
       "4   i use to be a non believer too  \n",
       "..                             ...  \n",
       "95           fun but frustrate too  \n",
       "96                     fruit quest  \n",
       "97                        fe man 3  \n",
       "98                  flag logo quiz  \n",
       "99            i like it but ......  \n",
       "\n",
       "[100 rows x 15 columns]"
      ]
     },
     "execution_count": 20,
     "metadata": {},
     "output_type": "execute_result"
    }
   ],
   "source": [
    "amzr_clean_sample_balanced"
   ]
  },
  {
   "cell_type": "markdown",
   "id": "231772c7-0324-4261-8664-7a7405ebea1a",
   "metadata": {},
   "source": [
    "### Train model"
   ]
  },
  {
   "cell_type": "markdown",
   "id": "5e8dc752-a408-4584-9eb8-e73bb0963822",
   "metadata": {},
   "source": [
    "- split data into training and validation set\n",
    "- encode text reviews with BERT tokenizer\n",
    "- set-up model as a three-class clasiffhyperparametersier\n",
    "- set model hyperparameters"
   ]
  },
  {
   "cell_type": "code",
   "execution_count": 21,
   "id": "2d47cebb-cefe-4195-8a02-c492c6165789",
   "metadata": {},
   "outputs": [],
   "source": [
    "def set_up_model(df,features ='reviewText_processed',labels = 'sentiment',max_length=256):\n",
    "    reviews = df[features].values.tolist()\n",
    "    labels = df[labels].tolist()\n",
    "    training_sentences, validation_sentences, training_labels, validation_labels = train_test_split(reviews, labels, test_size=.2)\n",
    "    tokenizer = DistilBertTokenizerFast.from_pretrained('distilbert-base-uncased')\n",
    "    train_encodings = tokenizer(training_sentences,\n",
    "                                truncation=True,\n",
    "                                padding=True,\n",
    "                                max_length=max_length)\n",
    "    val_encodings = tokenizer(validation_sentences,\n",
    "                                truncation=True,\n",
    "                                padding=True,\n",
    "                                max_length=max_length)\n",
    "    train_dataset = tf.data.Dataset.from_tensor_slices((\n",
    "                                dict(train_encodings),\n",
    "                                training_labels\n",
    "                                ))\n",
    "    val_dataset = tf.data.Dataset.from_tensor_slices((\n",
    "                                dict(val_encodings),\n",
    "                                validation_labels\n",
    "                                ))\n",
    "    callback = tf.keras.callbacks.EarlyStopping(monitor='loss',patience = 3)\n",
    "    model = TFDistilBertForSequenceClassification.from_pretrained('distilbert-base-uncased',num_labels=3)\n",
    "    optimizer = tf.keras.optimizers.Adam(learning_rate=5e-5, epsilon=1e-08)\n",
    "    model.compile(optimizer=optimizer, loss=model.compute_loss, metrics=['accuracy'])\n",
    "    return model, train_dataset, val_dataset"
   ]
  },
  {
   "cell_type": "code",
   "execution_count": 22,
   "id": "5d68a27e-0dbc-480b-abb7-f7bd5347b664",
   "metadata": {},
   "outputs": [],
   "source": [
    "def compute_test_accuracy(df,model, features = 'reviewText_processed',labels='sentiment',max_length=256):\n",
    "    tokenizer = DistilBertTokenizerFast.from_pretrained('distilbert-base-uncased')\n",
    "    test_sentences = df[features].values.tolist()\n",
    "    test_labels = df[labels].tolist()\n",
    "    tf_batch = [tokenizer(i, padding=True, truncation=True, max_length=max_length, return_tensors='tf') for i in test_sentences]\n",
    "    tf_outputs = [model(i) for i in tf_batch]\n",
    "    tf_predictions = [tf.nn.softmax(i[0], axis=-1) for i in tf_outputs]\n",
    "    pred_test_labels = [tf.argmax(i, axis=1).numpy()[0] for i in tf_predictions]\n",
    "    metric = tf.keras.metrics.Accuracy()\n",
    "    metric.update_state(test_labels,pred_test_labels)\n",
    "    return metric.result().numpy(),test_labels,pred_test_labels"
   ]
  },
  {
   "cell_type": "code",
   "execution_count": 23,
   "id": "f3179bfd-76ce-4aa5-97c5-2651977ab5a7",
   "metadata": {},
   "outputs": [],
   "source": [
    "def read_write_pkl(ppath,oobj=None, opt = 'r'):\n",
    "        if opt == \"w\":\n",
    "            if oobj is None:\n",
    "                print(\"Please specify an object to save (oobj=object2save\")\n",
    "                return\n",
    "            # Saving the objects:\n",
    "            with open(ppath, 'wb') as f:  \n",
    "                pickle.dump(oobj, f)\n",
    "        elif opt == \"r\":\n",
    "            with open(ppath,'rb') as f: \n",
    "                oobj = pickle.load(f) \n",
    "            return oobj"
   ]
  },
  {
   "cell_type": "code",
   "execution_count": null,
   "id": "82293b34-015b-454d-b57d-2b86fca7e3a5",
   "metadata": {
    "tags": []
   },
   "outputs": [
    {
     "name": "stdout",
     "output_type": "stream",
     "text": [
      "running run_unbalanced_reviewText_256\n"
     ]
    },
    {
     "name": "stderr",
     "output_type": "stream",
     "text": [
      "2021-09-27 01:58:54.802632: I tensorflow/stream_executor/platform/default/dso_loader.cc:44] Successfully opened dynamic library libcuda.so.1\n",
      "2021-09-27 01:58:54.886167: I tensorflow/stream_executor/cuda/cuda_gpu_executor.cc:981] successful NUMA node read from SysFS had negative value (-1), but there must be at least one NUMA node, so returning NUMA node zero\n",
      "2021-09-27 01:58:54.886610: I tensorflow/core/common_runtime/gpu/gpu_device.cc:1561] Found device 0 with properties: \n",
      "pciBusID: 0000:01:00.0 name: NVIDIA GeForce GTX 1660 computeCapability: 7.5\n",
      "coreClock: 1.86GHz coreCount: 22 deviceMemorySize: 5.80GiB deviceMemoryBandwidth: 178.86GiB/s\n",
      "2021-09-27 01:58:54.886669: I tensorflow/stream_executor/platform/default/dso_loader.cc:44] Successfully opened dynamic library libcudart.so.10.1\n",
      "2021-09-27 01:58:54.886731: I tensorflow/stream_executor/platform/default/dso_loader.cc:44] Successfully opened dynamic library libcublas.so.10\n",
      "2021-09-27 01:58:54.886774: I tensorflow/stream_executor/platform/default/dso_loader.cc:44] Successfully opened dynamic library libcufft.so.10\n",
      "2021-09-27 01:58:54.886816: I tensorflow/stream_executor/platform/default/dso_loader.cc:44] Successfully opened dynamic library libcurand.so.10\n",
      "2021-09-27 01:58:54.963241: I tensorflow/stream_executor/platform/default/dso_loader.cc:44] Successfully opened dynamic library libcusolver.so.10\n",
      "2021-09-27 01:58:54.963500: I tensorflow/stream_executor/platform/default/dso_loader.cc:44] Successfully opened dynamic library libcusparse.so.10\n",
      "2021-09-27 01:58:54.963620: I tensorflow/stream_executor/platform/default/dso_loader.cc:44] Successfully opened dynamic library libcudnn.so.7\n",
      "2021-09-27 01:58:54.963937: I tensorflow/stream_executor/cuda/cuda_gpu_executor.cc:981] successful NUMA node read from SysFS had negative value (-1), but there must be at least one NUMA node, so returning NUMA node zero\n",
      "2021-09-27 01:58:54.965152: I tensorflow/stream_executor/cuda/cuda_gpu_executor.cc:981] successful NUMA node read from SysFS had negative value (-1), but there must be at least one NUMA node, so returning NUMA node zero\n",
      "2021-09-27 01:58:54.966106: I tensorflow/core/common_runtime/gpu/gpu_device.cc:1703] Adding visible gpu devices: 0\n",
      "2021-09-27 01:58:54.968713: I tensorflow/core/platform/cpu_feature_guard.cc:143] Your CPU supports instructions that this TensorFlow binary was not compiled to use: SSE4.1 SSE4.2 AVX AVX2 FMA\n",
      "2021-09-27 01:58:55.022231: I tensorflow/core/platform/profile_utils/cpu_utils.cc:102] CPU Frequency: 3999980000 Hz\n",
      "2021-09-27 01:58:55.024095: I tensorflow/compiler/xla/service/service.cc:168] XLA service 0x55fad62846e0 initialized for platform Host (this does not guarantee that XLA will be used). Devices:\n",
      "2021-09-27 01:58:55.024159: I tensorflow/compiler/xla/service/service.cc:176]   StreamExecutor device (0): Host, Default Version\n",
      "2021-09-27 01:58:55.115639: I tensorflow/stream_executor/cuda/cuda_gpu_executor.cc:981] successful NUMA node read from SysFS had negative value (-1), but there must be at least one NUMA node, so returning NUMA node zero\n",
      "2021-09-27 01:58:55.116015: I tensorflow/compiler/xla/service/service.cc:168] XLA service 0x55fad6276680 initialized for platform CUDA (this does not guarantee that XLA will be used). Devices:\n",
      "2021-09-27 01:58:55.116030: I tensorflow/compiler/xla/service/service.cc:176]   StreamExecutor device (0): NVIDIA GeForce GTX 1660, Compute Capability 7.5\n",
      "2021-09-27 01:58:55.117134: I tensorflow/stream_executor/cuda/cuda_gpu_executor.cc:981] successful NUMA node read from SysFS had negative value (-1), but there must be at least one NUMA node, so returning NUMA node zero\n",
      "2021-09-27 01:58:55.117382: I tensorflow/core/common_runtime/gpu/gpu_device.cc:1561] Found device 0 with properties: \n",
      "pciBusID: 0000:01:00.0 name: NVIDIA GeForce GTX 1660 computeCapability: 7.5\n",
      "coreClock: 1.86GHz coreCount: 22 deviceMemorySize: 5.80GiB deviceMemoryBandwidth: 178.86GiB/s\n",
      "2021-09-27 01:58:55.117430: I tensorflow/stream_executor/platform/default/dso_loader.cc:44] Successfully opened dynamic library libcudart.so.10.1\n",
      "2021-09-27 01:58:55.117448: I tensorflow/stream_executor/platform/default/dso_loader.cc:44] Successfully opened dynamic library libcublas.so.10\n",
      "2021-09-27 01:58:55.117461: I tensorflow/stream_executor/platform/default/dso_loader.cc:44] Successfully opened dynamic library libcufft.so.10\n",
      "2021-09-27 01:58:55.117476: I tensorflow/stream_executor/platform/default/dso_loader.cc:44] Successfully opened dynamic library libcurand.so.10\n",
      "2021-09-27 01:58:55.117490: I tensorflow/stream_executor/platform/default/dso_loader.cc:44] Successfully opened dynamic library libcusolver.so.10\n",
      "2021-09-27 01:58:55.117503: I tensorflow/stream_executor/platform/default/dso_loader.cc:44] Successfully opened dynamic library libcusparse.so.10\n",
      "2021-09-27 01:58:55.117516: I tensorflow/stream_executor/platform/default/dso_loader.cc:44] Successfully opened dynamic library libcudnn.so.7\n",
      "2021-09-27 01:58:55.117585: I tensorflow/stream_executor/cuda/cuda_gpu_executor.cc:981] successful NUMA node read from SysFS had negative value (-1), but there must be at least one NUMA node, so returning NUMA node zero\n",
      "2021-09-27 01:58:55.117901: I tensorflow/stream_executor/cuda/cuda_gpu_executor.cc:981] successful NUMA node read from SysFS had negative value (-1), but there must be at least one NUMA node, so returning NUMA node zero\n",
      "2021-09-27 01:58:55.118093: I tensorflow/core/common_runtime/gpu/gpu_device.cc:1703] Adding visible gpu devices: 0\n",
      "2021-09-27 01:58:55.118881: I tensorflow/stream_executor/platform/default/dso_loader.cc:44] Successfully opened dynamic library libcudart.so.10.1\n",
      "2021-09-27 01:58:56.658152: I tensorflow/core/common_runtime/gpu/gpu_device.cc:1102] Device interconnect StreamExecutor with strength 1 edge matrix:\n",
      "2021-09-27 01:58:56.658171: I tensorflow/core/common_runtime/gpu/gpu_device.cc:1108]      0 \n",
      "2021-09-27 01:58:56.658176: I tensorflow/core/common_runtime/gpu/gpu_device.cc:1121] 0:   N \n",
      "2021-09-27 01:58:56.658355: I tensorflow/stream_executor/cuda/cuda_gpu_executor.cc:981] successful NUMA node read from SysFS had negative value (-1), but there must be at least one NUMA node, so returning NUMA node zero\n",
      "2021-09-27 01:58:56.658641: I tensorflow/stream_executor/cuda/cuda_gpu_executor.cc:981] successful NUMA node read from SysFS had negative value (-1), but there must be at least one NUMA node, so returning NUMA node zero\n",
      "2021-09-27 01:58:56.658860: I tensorflow/core/common_runtime/gpu/gpu_device.cc:1247] Created TensorFlow device (/job:localhost/replica:0/task:0/device:GPU:0 with 3650 MB memory) -> physical GPU (device: 0, name: NVIDIA GeForce GTX 1660, pci bus id: 0000:01:00.0, compute capability: 7.5)\n",
      "2021-09-27 01:58:57.656742: W tensorflow/python/util/util.cc:329] Sets are not currently considered sequences, but this may change in the future, so consider avoiding using them.\n",
      "2021-09-27 01:58:59.955162: I tensorflow/stream_executor/platform/default/dso_loader.cc:44] Successfully opened dynamic library libcublas.so.10\n",
      "Some layers from the model checkpoint at distilbert-base-uncased were not used when initializing TFDistilBertForSequenceClassification: ['vocab_layer_norm', 'vocab_transform', 'vocab_projector', 'activation_13']\n",
      "- This IS expected if you are initializing TFDistilBertForSequenceClassification from the checkpoint of a model trained on another task or with another architecture (e.g. initializing a BertForSequenceClassification model from a BertForPreTraining model).\n",
      "- This IS NOT expected if you are initializing TFDistilBertForSequenceClassification from the checkpoint of a model that you expect to be exactly identical (initializing a BertForSequenceClassification model from a BertForSequenceClassification model).\n",
      "Some layers of TFDistilBertForSequenceClassification were not initialized from the model checkpoint at distilbert-base-uncased and are newly initialized: ['pre_classifier', 'classifier', 'dropout_19']\n",
      "You should probably TRAIN this model on a down-stream task to be able to use it for predictions and inference.\n"
     ]
    },
    {
     "name": "stdout",
     "output_type": "stream",
     "text": [
      "Epoch 1/3\n",
      "WARNING:tensorflow:The parameters `output_attentions`, `output_hidden_states` and `use_cache` cannot be updated when calling a model.They have to be set to True/False in the config object (i.e.: `config=XConfig.from_pretrained('name', output_attentions=True)`).\n",
      "WARNING:tensorflow:AutoGraph could not transform <bound method Socket.send of <zmq.Socket(zmq.PUSH) at 0x7fddd002f1c0>> and will run it as-is.\n",
      "Please report this to the TensorFlow team. When filing the bug, set the verbosity to 10 (on Linux, `export AUTOGRAPH_VERBOSITY=10`) and attach the full output.\n",
      "Cause: module, class, method, function, traceback, frame, or code object was expected, got cython_function_or_method\n",
      "To silence this warning, decorate the function with @tf.autograph.experimental.do_not_convert\n",
      "WARNING: AutoGraph could not transform <bound method Socket.send of <zmq.Socket(zmq.PUSH) at 0x7fddd002f1c0>> and will run it as-is.\n",
      "Please report this to the TensorFlow team. When filing the bug, set the verbosity to 10 (on Linux, `export AUTOGRAPH_VERBOSITY=10`) and attach the full output.\n",
      "Cause: module, class, method, function, traceback, frame, or code object was expected, got cython_function_or_method\n",
      "To silence this warning, decorate the function with @tf.autograph.experimental.do_not_convert\n",
      "WARNING:tensorflow:The parameter `return_dict` cannot be set in graph mode and will always be set to `True`.\n",
      "WARNING:tensorflow:The parameters `output_attentions`, `output_hidden_states` and `use_cache` cannot be updated when calling a model.They have to be set to True/False in the config object (i.e.: `config=XConfig.from_pretrained('name', output_attentions=True)`).\n",
      "WARNING:tensorflow:The parameter `return_dict` cannot be set in graph mode and will always be set to `True`.\n",
      "20/20 [==============================] - ETA: 0s - loss: 0.8199 - accuracy: 0.7250WARNING:tensorflow:The parameters `output_attentions`, `output_hidden_states` and `use_cache` cannot be updated when calling a model.They have to be set to True/False in the config object (i.e.: `config=XConfig.from_pretrained('name', output_attentions=True)`).\n",
      "WARNING:tensorflow:The parameter `return_dict` cannot be set in graph mode and will always be set to `True`.\n",
      "20/20 [==============================] - 4s 210ms/step - loss: 0.8199 - accuracy: 0.7250 - val_loss: 0.6358 - val_accuracy: 0.8000\n",
      "Epoch 2/3\n",
      "20/20 [==============================] - 3s 167ms/step - loss: 0.6857 - accuracy: 0.7500 - val_loss: 0.5960 - val_accuracy: 0.8000\n",
      "Epoch 3/3\n",
      "20/20 [==============================] - 3s 168ms/step - loss: 0.4778 - accuracy: 0.7875 - val_loss: 0.6242 - val_accuracy: 0.8000\n",
      "running run_unbalanced_reviewText_processed_256\n"
     ]
    },
    {
     "name": "stderr",
     "output_type": "stream",
     "text": [
      "Some layers from the model checkpoint at distilbert-base-uncased were not used when initializing TFDistilBertForSequenceClassification: ['vocab_layer_norm', 'vocab_transform', 'vocab_projector', 'activation_13']\n",
      "- This IS expected if you are initializing TFDistilBertForSequenceClassification from the checkpoint of a model trained on another task or with another architecture (e.g. initializing a BertForSequenceClassification model from a BertForPreTraining model).\n",
      "- This IS NOT expected if you are initializing TFDistilBertForSequenceClassification from the checkpoint of a model that you expect to be exactly identical (initializing a BertForSequenceClassification model from a BertForSequenceClassification model).\n",
      "Some layers of TFDistilBertForSequenceClassification were not initialized from the model checkpoint at distilbert-base-uncased and are newly initialized: ['pre_classifier', 'dropout_39', 'classifier']\n",
      "You should probably TRAIN this model on a down-stream task to be able to use it for predictions and inference.\n"
     ]
    },
    {
     "name": "stdout",
     "output_type": "stream",
     "text": [
      "Epoch 1/3\n",
      "WARNING:tensorflow:The parameters `output_attentions`, `output_hidden_states` and `use_cache` cannot be updated when calling a model.They have to be set to True/False in the config object (i.e.: `config=XConfig.from_pretrained('name', output_attentions=True)`).\n",
      "WARNING:tensorflow:The parameter `return_dict` cannot be set in graph mode and will always be set to `True`.\n",
      "WARNING:tensorflow:The parameters `output_attentions`, `output_hidden_states` and `use_cache` cannot be updated when calling a model.They have to be set to True/False in the config object (i.e.: `config=XConfig.from_pretrained('name', output_attentions=True)`).\n",
      "WARNING:tensorflow:The parameter `return_dict` cannot be set in graph mode and will always be set to `True`.\n",
      "20/20 [==============================] - ETA: 0s - loss: 0.7319 - accuracy: 0.7500WARNING:tensorflow:The parameters `output_attentions`, `output_hidden_states` and `use_cache` cannot be updated when calling a model.They have to be set to True/False in the config object (i.e.: `config=XConfig.from_pretrained('name', output_attentions=True)`).\n",
      "WARNING:tensorflow:The parameter `return_dict` cannot be set in graph mode and will always be set to `True`.\n",
      "20/20 [==============================] - 4s 177ms/step - loss: 0.7319 - accuracy: 0.7500 - val_loss: 0.8772 - val_accuracy: 0.6500\n",
      "Epoch 2/3\n",
      "20/20 [==============================] - 3s 135ms/step - loss: 0.5701 - accuracy: 0.7875 - val_loss: 0.7700 - val_accuracy: 0.6500\n",
      "Epoch 3/3\n",
      "20/20 [==============================] - 3s 135ms/step - loss: 0.2814 - accuracy: 0.9125 - val_loss: 0.9023 - val_accuracy: 0.7500\n",
      "running run_unbalanced_summary_256\n"
     ]
    },
    {
     "name": "stderr",
     "output_type": "stream",
     "text": [
      "Some layers from the model checkpoint at distilbert-base-uncased were not used when initializing TFDistilBertForSequenceClassification: ['vocab_layer_norm', 'vocab_transform', 'vocab_projector', 'activation_13']\n",
      "- This IS expected if you are initializing TFDistilBertForSequenceClassification from the checkpoint of a model trained on another task or with another architecture (e.g. initializing a BertForSequenceClassification model from a BertForPreTraining model).\n",
      "- This IS NOT expected if you are initializing TFDistilBertForSequenceClassification from the checkpoint of a model that you expect to be exactly identical (initializing a BertForSequenceClassification model from a BertForSequenceClassification model).\n",
      "Some layers of TFDistilBertForSequenceClassification were not initialized from the model checkpoint at distilbert-base-uncased and are newly initialized: ['pre_classifier', 'dropout_59', 'classifier']\n",
      "You should probably TRAIN this model on a down-stream task to be able to use it for predictions and inference.\n"
     ]
    },
    {
     "name": "stdout",
     "output_type": "stream",
     "text": [
      "Epoch 1/3\n",
      "WARNING:tensorflow:The parameters `output_attentions`, `output_hidden_states` and `use_cache` cannot be updated when calling a model.They have to be set to True/False in the config object (i.e.: `config=XConfig.from_pretrained('name', output_attentions=True)`).\n",
      "WARNING:tensorflow:The parameter `return_dict` cannot be set in graph mode and will always be set to `True`.\n",
      "WARNING:tensorflow:The parameters `output_attentions`, `output_hidden_states` and `use_cache` cannot be updated when calling a model.They have to be set to True/False in the config object (i.e.: `config=XConfig.from_pretrained('name', output_attentions=True)`).\n",
      "WARNING:tensorflow:The parameter `return_dict` cannot be set in graph mode and will always be set to `True`.\n",
      "10/10 [==============================] - ETA: 0s - loss: 0.8548 - accuracy: 0.7000WARNING:tensorflow:The parameters `output_attentions`, `output_hidden_states` and `use_cache` cannot be updated when calling a model.They have to be set to True/False in the config object (i.e.: `config=XConfig.from_pretrained('name', output_attentions=True)`).\n",
      "WARNING:tensorflow:The parameter `return_dict` cannot be set in graph mode and will always be set to `True`.\n",
      "10/10 [==============================] - 4s 359ms/step - loss: 0.8548 - accuracy: 0.7000 - val_loss: 0.8569 - val_accuracy: 0.7000\n",
      "Epoch 2/3\n",
      " 5/10 [==============>...............] - ETA: 1s - loss: 0.6075 - accuracy: 0.8000"
     ]
    }
   ],
   "source": [
    "train_cases = {'unbalanced':amzr_clean_sample, 'balanced':amzr_clean_sample_balanced,'helpful_balanced':amzr_keep_helful_sample_balanced}\n",
    "feature_cases = ['reviewText','reviewText_processed','summary','summary_processed']\n",
    "max_length = [256,512]\n",
    "batch_size = 4\n",
    "model_results = {}\n",
    "for l in max_length:\n",
    "    for name,t in train_cases.items():\n",
    "        for f in feature_cases:\n",
    "            print('running '+'run_'+name+\"_\"+f+\"_\"+str(l))\n",
    "            if f in ['summary','summary_processed']:\n",
    "                max_length = 64\n",
    "                batch_size=8\n",
    "            model, train_dataset, val_dataset= set_up_model(t,max_length=l)\n",
    "            history = model.fit(train_dataset.shuffle(100).batch(batch_size),\n",
    "                  epochs=3,\n",
    "                  batch_size=batch_size,\n",
    "                  validation_data=val_dataset.shuffle(100).batch(batch_size))\n",
    "            acc,test_labels,pred_test_labels = compute_test_accuracy(amzr_test_sample,model,max_length=l)\n",
    "            model_results['run_'+name+\"_\"+f+\"_\"+\"_\"+str(l)]  = {'parameters':{'max_length':l,'batch_size':batch_size,'Case':name},'test_acc':acc,'history_acc':history.history['accuracy'],'history_valacc':history.history['val_accuracy'],'test_labels':test_labels,\"pred_test_labels\":pred_test_labels}\n",
    "            model.save_pretrained(\"./sentiment_run_\"+name+\"_\"+f+\"_\"+\"_\"+str(l))\n",
    "            with open('./out/model_results.pkl', 'wb') as f:  \n",
    "                pickle.dump(model_results, f)          "
   ]
  },
  {
   "cell_type": "code",
   "execution_count": null,
   "id": "baa0ecad-db53-42bd-a0ae-6f9037cd6617",
   "metadata": {},
   "outputs": [],
   "source": []
  },
  {
   "cell_type": "code",
   "execution_count": null,
   "id": "5c4570d4-1b18-4cf9-bba3-512c9ecfafed",
   "metadata": {},
   "outputs": [],
   "source": []
  },
  {
   "cell_type": "code",
   "execution_count": 29,
   "id": "c1ac968e-0e50-4c64-b382-921e41018717",
   "metadata": {
    "tags": []
   },
   "outputs": [
    {
     "name": "stderr",
     "output_type": "stream",
     "text": [
      "Some layers from the model checkpoint at distilbert-base-uncased were not used when initializing TFDistilBertForSequenceClassification: ['vocab_transform', 'vocab_projector', 'vocab_layer_norm', 'activation_13']\n",
      "- This IS expected if you are initializing TFDistilBertForSequenceClassification from the checkpoint of a model trained on another task or with another architecture (e.g. initializing a BertForSequenceClassification model from a BertForPreTraining model).\n",
      "- This IS NOT expected if you are initializing TFDistilBertForSequenceClassification from the checkpoint of a model that you expect to be exactly identical (initializing a BertForSequenceClassification model from a BertForSequenceClassification model).\n",
      "Some layers of TFDistilBertForSequenceClassification were not initialized from the model checkpoint at distilbert-base-uncased and are newly initialized: ['dropout_39', 'classifier', 'pre_classifier']\n",
      "You should probably TRAIN this model on a down-stream task to be able to use it for predictions and inference.\n"
     ]
    }
   ],
   "source": [
    "model, train_dataset, val_dataset= set_up_model(amzr_clean_sample_balanced)"
   ]
  },
  {
   "cell_type": "code",
   "execution_count": 30,
   "id": "37bed871-ee67-487a-8d30-495fab1f54b6",
   "metadata": {
    "tags": []
   },
   "outputs": [
    {
     "name": "stdout",
     "output_type": "stream",
     "text": [
      "Epoch 1/3\n",
      "WARNING:tensorflow:The parameters `output_attentions`, `output_hidden_states` and `use_cache` cannot be updated when calling a model.They have to be set to True/False in the config object (i.e.: `config=XConfig.from_pretrained('name', output_attentions=True)`).\n",
      "WARNING:tensorflow:The parameter `return_dict` cannot be set in graph mode and will always be set to `True`.\n",
      "WARNING:tensorflow:The parameters `output_attentions`, `output_hidden_states` and `use_cache` cannot be updated when calling a model.They have to be set to True/False in the config object (i.e.: `config=XConfig.from_pretrained('name', output_attentions=True)`).\n",
      "WARNING:tensorflow:The parameter `return_dict` cannot be set in graph mode and will always be set to `True`.\n",
      "800/800 [==============================] - ETA: 0s - loss: 0.8438 - accuracy: 0.6031WARNING:tensorflow:The parameters `output_attentions`, `output_hidden_states` and `use_cache` cannot be updated when calling a model.They have to be set to True/False in the config object (i.e.: `config=XConfig.from_pretrained('name', output_attentions=True)`).\n",
      "WARNING:tensorflow:The parameter `return_dict` cannot be set in graph mode and will always be set to `True`.\n",
      "800/800 [==============================] - 147s 184ms/step - loss: 0.8438 - accuracy: 0.6031 - val_loss: 0.7503 - val_accuracy: 0.6550\n",
      "Epoch 2/3\n",
      "800/800 [==============================] - 146s 183ms/step - loss: 0.5874 - accuracy: 0.7538 - val_loss: 0.8754 - val_accuracy: 0.6212\n",
      "Epoch 3/3\n",
      "800/800 [==============================] - 146s 182ms/step - loss: 0.4076 - accuracy: 0.8353 - val_loss: 1.0419 - val_accuracy: 0.6338\n"
     ]
    }
   ],
   "source": [
    "history = model.fit(train_dataset.shuffle(100).batch(4),\n",
    "          epochs=3,\n",
    "          batch_size=4,\n",
    "          validation_data=val_dataset.shuffle(100).batch(4))"
   ]
  },
  {
   "cell_type": "code",
   "execution_count": 31,
   "id": "abd4bb25-c4b2-4ba5-b81c-0e11a7f8815d",
   "metadata": {},
   "outputs": [],
   "source": [
    "acc,test_labels,pred_test_labels = compute_test_accuracy(amzr_test_sample,model)"
   ]
  },
  {
   "cell_type": "code",
   "execution_count": 32,
   "id": "4c03c869-6843-4256-9cea-fa0b6056255b",
   "metadata": {},
   "outputs": [
    {
     "data": {
      "text/plain": [
       "0.759"
      ]
     },
     "execution_count": 32,
     "metadata": {},
     "output_type": "execute_result"
    }
   ],
   "source": [
    "acc"
   ]
  },
  {
   "cell_type": "code",
   "execution_count": 33,
   "id": "f11dca05-b012-4492-b52d-4fbf274882e9",
   "metadata": {},
   "outputs": [],
   "source": [
    "model_results ={}"
   ]
  },
  {
   "cell_type": "code",
   "execution_count": 34,
   "id": "8af51194-8c1c-4a26-a6d0-11ce6735ae79",
   "metadata": {
    "tags": []
   },
   "outputs": [],
   "source": [
    "model_results['run1']  = {'parameters':{'max_length':256,'batch_size':4,'balanced':True,'Case':4},'test_acc':acc,'history':history,'test_labels':test_labels,\"pred_test_labels\":pred_test_labels}\n",
    "model.save_pretrained(\"./sentiment_run2\")"
   ]
  },
  {
   "cell_type": "code",
   "execution_count": 35,
   "id": "bf5be4ca-f4fc-4142-b705-65c8fcecbee6",
   "metadata": {},
   "outputs": [
    {
     "data": {
      "image/png": "[encoded data removed]",
      "text/plain": [
       "<Figure size 432x288 with 2 Axes>"
      ]
     },
     "metadata": {
      "needs_background": "light"
     },
     "output_type": "display_data"
    }
   ],
   "source": [
    "cm=confusion_matrix(pred_test_labels, test_labels)\n",
    "cm = cm/np.transpose(np.tile(np.sum(cm,axis=1),(3,1)))\n",
    "disp = ConfusionMatrixDisplay(confusion_matrix=cm,\n",
    "                               display_labels=[0,1,2])\n",
    "disp.plot(cmap=\"YlGn\")\n",
    "plt.savefig('./test_run3.png')\n",
    "plt.savefig('./test_run3.svg')"
   ]
  },
  {
   "cell_type": "code",
   "execution_count": null,
   "id": "fe601f6f-dd7e-46d3-b8e2-f2c153dcd34e",
   "metadata": {},
   "outputs": [],
   "source": []
  },
  {
   "cell_type": "code",
   "execution_count": null,
   "id": "9f1a7b2c-c332-4e6e-b6c6-fcdb978c0da2",
   "metadata": {},
   "outputs": [],
   "source": []
  },
  {
   "cell_type": "code",
   "execution_count": null,
   "id": "4fbc0848-75b1-4f27-9aad-c17cafbc7ab6",
   "metadata": {},
   "outputs": [],
   "source": []
  },
  {
   "cell_type": "code",
   "execution_count": null,
   "id": "88fb54b9-21d1-4e44-a21c-759bce05b472",
   "metadata": {},
   "outputs": [],
   "source": [
    "import pickle\n",
    "\n",
    "# obj0, obj1, obj2 are created here...\n",
    "def read_write_pkl(ppath,oobj=None, opt = 'r'):\n",
    "        if opt == \"w\":\n",
    "            if oobj is None:\n",
    "                print(\"Please specify an object to save (oobj=object2save\")\n",
    "                return\n",
    "            # Saving the objects:\n",
    "            with open(ppath, 'wb') as f:  \n",
    "                pickle.dump(oobj, f)\n",
    "        elif opt == \"r\":\n",
    "            with open(ppath,'rb') as f: \n",
    "                oobj = pickle.load(f) \n",
    "            return oobj"
   ]
  },
  {
   "cell_type": "code",
   "execution_count": 95,
   "id": "5745cb82-f5eb-41b7-beae-d2b84a9a6ab5",
   "metadata": {},
   "outputs": [],
   "source": [
    "df_vars2save = {'label':label,'acc':acc,'amzr_test_sample':amzr_test_sample}\n",
    "read_write_pkl('./tmp_saved_var.pkl',oobj=df_vars2save, opt = 'w')"
   ]
  },
  {
   "cell_type": "code",
   "execution_count": 96,
   "id": "559cfdda-6313-4433-a8bd-cc8e66a9877a",
   "metadata": {},
   "outputs": [],
   "source": [
    "a=read_write_pkl('./tmp_saved_var.pkl', opt = 'r')"
   ]
  },
  {
   "cell_type": "code",
   "execution_count": 98,
   "id": "dee188c8-4a29-422c-9824-97c54d71dfb0",
   "metadata": {},
   "outputs": [],
   "source": [
    "            with open('./tmp_saved_var.pkl', 'wb') as f:  \n",
    "                pickle.dump(df_vars2save, f)\n"
   ]
  },
  {
   "cell_type": "code",
   "execution_count": 99,
   "id": "0317ea2e-642b-4956-826b-6da77c6b42a5",
   "metadata": {},
   "outputs": [],
   "source": [
    "            with open('./tmp_saved_var.pkl','rb') as f: \n",
    "                a = pickle.load(f) "
   ]
  },
  {
   "cell_type": "code",
   "execution_count": null,
   "id": "5decb096-261a-46a1-9ebb-5e926ab25479",
   "metadata": {},
   "outputs": [],
   "source": []
  }
 ],
 "metadata": {
  "kernelspec": {
   "display_name": "Python 3 (ipykernel)",
   "language": "python",
   "name": "python3"
  },
  "language_info": {
   "codemirror_mode": {
    "name": "ipython",
    "version": 3
   },
   "file_extension": ".py",
   "mimetype": "text/x-python",
   "name": "python",
   "nbconvert_exporter": "python",
   "pygments_lexer": "ipython3",
   "version": "3.8.11"
  }
 },
 "nbformat": 4,
 "nbformat_minor": 5
}
